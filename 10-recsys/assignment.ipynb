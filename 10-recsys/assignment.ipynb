{
 "cells": [
  {
   "cell_type": "markdown",
   "id": "b338c881",
   "metadata": {},
   "source": [
    "# 10.1. Схожесть\n",
    "Заполните пропуски в следующем коде, для того чтобы получилась система определения близости пользователей и объектов на основе [SVD-разложения](https://colab.research.google.com/drive/1ldt1uUd8bJwiuUHrp2xmTKjELYVLcdzZ#scrollTo=iB0F4K6Kxf2p), как было показано на лекции. \n",
    "\n",
    "Для этого требуется реализовать несколько функций, озаглавленных в приведённом ниже шаблоне класса. Функция `_get_svd()` должна выполнять svd-преобразование и возвращать матрицы P и Q (см. [лекцию](https://colab.research.google.com/drive/1aignzmtgTjC8HErXwUJzWlqDcmR8NdCg#scrollTo=LpPUNrmdXf0M)). Функция `get_similar_users` должна ранжировать всех пользователей по мере близости к искомому пользователю и возвращать индексы самых близких из них. Функция `get_similar_items` - аналогично, но по отношению к объектам. В качестве аргументов последние две функции принимают (1) количество похожих пользователей и объектов, индексы которых нужно вернуть, и (2) индекс текущего пользователя или объекта."
   ]
  },
  {
   "cell_type": "code",
   "execution_count": 37,
   "id": "9d7bfdd1",
   "metadata": {},
   "outputs": [],
   "source": [
    "import numpy as np\n",
    "from numpy.linalg import svd\n",
    "from sklearn.neighbors import NearestNeighbors\n",
    "\n",
    "\n",
    "class similaryty_analizer(object):\n",
    "    def __init__(self, R: np.array):\n",
    "        self.R = R\n",
    "        self.n_users = R.shape[0]\n",
    "        self.n_items = R.shape[1]\n",
    "\n",
    "    def _get_svd(self, new_dim: int):\n",
    "        R = self.R\n",
    "        U, S, V = svd(R)\n",
    "\n",
    "        U = U[:, :new_dim]\n",
    "        S = np.diag(S[:new_dim])\n",
    "        V = V[:new_dim, :]\n",
    "        \n",
    "        P = np.matmul(U, S)\n",
    "        Q = V\n",
    "        return P, Q\n",
    "\n",
    "    def get_similar_users(self, n_users: int, user_id: int):\n",
    "        P, Q = self._get_svd(self.n_users)\n",
    "\n",
    "        nn = NearestNeighbors(n_neighbors=n_users+1)\n",
    "        nn = nn.fit(P)\n",
    "\n",
    "        user = P[user_id, :]\n",
    "        neighbours = nn.kneighbors([user], return_distance=False)[:, 1:].ravel()\n",
    "        return neighbours\n",
    "\n",
    "    def get_similar_items(self, n_items: int, item_id: int):\n",
    "        P, Q = self._get_svd(self.n_items)\n",
    "\n",
    "        nn = NearestNeighbors(n_neighbors=n_items+1)\n",
    "        nn = nn.fit(Q)\n",
    "\n",
    "        item = Q[item_id, :]\n",
    "        neighbours = nn.kneighbors([item], return_distance=False)[:, 1:].ravel()\n",
    "        return neighbours"
   ]
  },
  {
   "cell_type": "markdown",
   "id": "ae52cc41",
   "metadata": {},
   "source": [
    "# 10.2. Социальная сеть \"Друзья\".\n",
    "\n",
    "Представим, что Вы - основатель нового амбициозного стартапа \"Социальная сеть: Друзья\", предлагающего организовывать поиск новых друзей при помощи сравнения вкусов в области кинематографа. Каждому регистрирующемуся на портале пользователю предлагается заполнить очень простую анекету. Она состоит из N фильмов, для каждого из которых требуется поставить одну из двух оценок: 1, если пользователь может сказать, что указанный фильм ему нравится, и 0 иначе (если не нравится или пользователь его не смотрел).\n",
    "\n",
    "После заполнения анкеты пользователь получает список наиболее подходящих ему с точки зрения кинематографической совместимости.\n",
    "\n",
    "Ваша задача - написать класс `friendadviser`, в рамках которого реализовать следующие методы:\n",
    "\n",
    "- Метод `fit(self, R)`, принимающий на вход матрицу `R` размерности $M × N$, где $M$ - число зарегистрированных пользователей вашей социальной сети, а $N$ - число фильмов в анкете. Элемент матрицы $r_{ij}$ - это отметка, поставленная пользователем $i$ в анкете напротив фильма $j$.\n",
    "- `_sim(u1, u2)` - функция, вычисляющая [схожесть (PMI)](https://colab.research.google.com/drive/1aignzmtgTjC8HErXwUJzWlqDcmR8NdCg#scrollTo=XfDfevVjrQ_X) пользователей $u_1$ и $u_2$ по векторам их оценок. Рекомендуем использовать \"усечённую\" версию PMI, которая в лекции называется score.\n",
    "- `U_idx(u0, alpha)` - функция, позволяющая найти набор зарегистрированных пользователей (а именно, их индексов), схожесть вкусов которых с новым пользователем $u_0$ не меньше значения alpha.\n",
    "- `find_friends(u0, how_many)` - функция, подыскивающая для пользователя $u_0$ новых друзей в количестве, заданном аргументом `how_many`. На выходе мы ожидаем получить массив с индексами таких друзей.  Индексы ради удобства верните в порядке убывания схожести интересов."
   ]
  },
  {
   "cell_type": "code",
   "execution_count": 180,
   "id": "73352df6",
   "metadata": {},
   "outputs": [],
   "source": [
    "import numpy as np\n",
    "\n",
    "class friendadviser(object):\n",
    "    def fit(self, R):\n",
    "        self.R = R\n",
    "        self.n_items = R.shape[0]\n",
    "        self.n_users = R.shape[1]\n",
    "\n",
    "    def _sim(self, u1, u2):\n",
    "        return np.sum((self.R[:, u1] == self.R[:, u2]) & (self.R[:, u1] == 1)) / self.R[:, u1].sum()\n",
    "\n",
    "    def U_idx(self, u0, alpha):\n",
    "        sim = np.array([[u, s._sim(u0, u)] for u in range(self.n_users) if u != u0])\n",
    "        sim = sim[sim[:, 1] > alpha, 0]\n",
    "        sim = np.sort(sim)[::-1]\n",
    "        return sim\n",
    "    \n",
    "    def find_friends(self, u0, how_many):\n",
    "        sim = self.U_idx(u0, -1)\n",
    "        return sim[:how_many]"
   ]
  },
  {
   "cell_type": "code",
   "execution_count": 181,
   "id": "03a0708f",
   "metadata": {},
   "outputs": [],
   "source": [
    "r1 = [0, 1, 0, 1, 0]\n",
    "r2 = [0, 1, 0, 1, 0]\n",
    "r3 = [1, 0, 1, 1, 0]\n",
    "r4 = [1, 0, 1, 1, 0]\n",
    "r5 = [0, 1, 0, 1, 0]\n",
    "r6 = [1, 0, 1, 1, 0]\n",
    "\n",
    "R = np.array([r1, r2, r3, r4, r5, r6])"
   ]
  },
  {
   "cell_type": "code",
   "execution_count": 182,
   "id": "8c680fe0",
   "metadata": {},
   "outputs": [
    {
     "data": {
      "text/plain": [
       "array([1, 1, 0, 0, 1, 0])"
      ]
     },
     "execution_count": 182,
     "metadata": {},
     "output_type": "execute_result"
    }
   ],
   "source": [
    "R[:, 1]"
   ]
  },
  {
   "cell_type": "code",
   "execution_count": 183,
   "id": "8b533419",
   "metadata": {},
   "outputs": [],
   "source": [
    "u1 = 0\n",
    "u2 = 1"
   ]
  },
  {
   "cell_type": "code",
   "execution_count": 184,
   "id": "34b6866e",
   "metadata": {},
   "outputs": [],
   "source": [
    "s = friendadviser()\n",
    "s.fit(R)"
   ]
  },
  {
   "cell_type": "code",
   "execution_count": 185,
   "id": "b49f0180",
   "metadata": {},
   "outputs": [
    {
     "data": {
      "text/plain": [
       "array([4., 3., 2., 1.])"
      ]
     },
     "execution_count": 185,
     "metadata": {},
     "output_type": "execute_result"
    }
   ],
   "source": [
    "s.U_idx(0, -1)"
   ]
  },
  {
   "cell_type": "code",
   "execution_count": 186,
   "id": "90640815",
   "metadata": {},
   "outputs": [
    {
     "data": {
      "text/plain": [
       "array([4., 3.])"
      ]
     },
     "execution_count": 186,
     "metadata": {},
     "output_type": "execute_result"
    }
   ],
   "source": [
    "s.find_friends(0, 2)"
   ]
  },
  {
   "cell_type": "code",
   "execution_count": 123,
   "id": "53780f67",
   "metadata": {},
   "outputs": [
    {
     "data": {
      "text/plain": [
       "array([[0.],\n",
       "       [1.]])"
      ]
     },
     "execution_count": 123,
     "metadata": {},
     "output_type": "execute_result"
    }
   ],
   "source": [
    "s.U_idx(0, 0)[:, s.U_idx(0, 0)[:, 1] == 1]"
   ]
  },
  {
   "cell_type": "code",
   "execution_count": 91,
   "id": "f76e0e47",
   "metadata": {},
   "outputs": [
    {
     "data": {
      "text/plain": [
       "0"
      ]
     },
     "execution_count": 91,
     "metadata": {},
     "output_type": "execute_result"
    }
   ],
   "source": [
    "np.sum((R[:, u1] == R[:, u2]) & (R[:, u1] == 1))"
   ]
  },
  {
   "cell_type": "code",
   "execution_count": 47,
   "id": "e7d507ac",
   "metadata": {},
   "outputs": [
    {
     "data": {
      "text/plain": [
       "array([[0, 1, 0],\n",
       "       [0, 1, 0],\n",
       "       [1, 0, 1],\n",
       "       [1, 0, 1],\n",
       "       [0, 1, 0],\n",
       "       [1, 0, 1]])"
      ]
     },
     "execution_count": 47,
     "metadata": {},
     "output_type": "execute_result"
    }
   ],
   "source": [
    "R"
   ]
  },
  {
   "cell_type": "code",
   "execution_count": 45,
   "id": "a2c60918",
   "metadata": {},
   "outputs": [
    {
     "data": {
      "text/plain": [
       "array([[0, 1, 0],\n",
       "       [0, 1, 0],\n",
       "       [1, 0, 1],\n",
       "       [1, 0, 1],\n",
       "       [0, 1, 0],\n",
       "       [1, 0, 1]])"
      ]
     },
     "execution_count": 45,
     "metadata": {},
     "output_type": "execute_result"
    }
   ],
   "source": [
    "films_liked_by_sveta = df[df['Света'] == 1]\n",
    "n_sveta_liked = films_liked_by_sveta.shape[0]\n",
    "P_pasha_cond_sveta = films_liked_by_sveta['Паша'].sum()/n_sveta_liked\n",
    "P_pasha_cond_sveta"
   ]
  }
 ],
 "metadata": {
  "kernelspec": {
   "display_name": "Python 3 (ipykernel)",
   "language": "python",
   "name": "python3"
  },
  "language_info": {
   "codemirror_mode": {
    "name": "ipython",
    "version": 3
   },
   "file_extension": ".py",
   "mimetype": "text/x-python",
   "name": "python",
   "nbconvert_exporter": "python",
   "pygments_lexer": "ipython3",
   "version": "3.10.8"
  }
 },
 "nbformat": 4,
 "nbformat_minor": 5
}
