{
 "cells": [
  {
   "cell_type": "markdown",
   "id": "f58dec87",
   "metadata": {},
   "source": [
    "# Задача 2.1. Аргументы\n",
    "\n",
    "В данном задании Вам предлагается дописать код решения задачи бинарной классификации на основе классификатора KNN. Шаблон кода приведён Вам в качестве входных данных, Вам необходимо дополнить его так, чтобы алгоритм K ближайших соседей был настроен в следующей конфигурации:\n",
    "\n",
    "- В качестве K должно быть выбрано значение 8\n",
    "- В качестве метрики должно быть использовано манхэттенское расстояние\n",
    "\n",
    "Для обучения модели разобьём выборку на тренировочную и тестовую при помощи функции train_test_split из модуля sklearn.model_selection. Подробнее об этой функции можно прочитать в [официальной документации sklearn](https://scikit-learn.org/stable/modules/generated/sklearn.model_selection.train_test_split.html): \n",
    "\n",
    "Настройте разбиение на тестовую и тренировочную выборку таким образом, чтобы 0.3 объектов попали в тестовую выборку.\n",
    "\n",
    "Оцените качество классификации на тестовой выборке при помощи [accuracy_score](https://scikit-learn.org/stable/modules/generated/sklearn.metrics.accuracy_score.html) (функция подсчета доли правильных ответов из sklearn.metrics)\n",
    "\n",
    "В качестве ответа укажите полученное качество на тестовой выборке, округлив ответ **вниз** до сотых.\n",
    "\n",
    "## Примечания\n",
    "\n",
    "**Внимание:** Не меняйте значение random_state и random_seed, это может привести к неправильным ответам.\n",
    "\n",
    "Ответ должен быть записан в виде десятичной дроби через **точку** с двумя значащими цифрами. Например: 0.11\n",
    "\n",
    "Вариант аналогичной записи через запятую приведёт к неверному ответу, будьте внимательны."
   ]
  },
  {
   "cell_type": "code",
   "execution_count": 1,
   "id": "50c8d260",
   "metadata": {},
   "outputs": [
    {
     "name": "stdout",
     "output_type": "stream",
     "text": [
      "0.97\n"
     ]
    }
   ],
   "source": [
    "import math\n",
    "import numpy as np\n",
    "from sklearn.neighbors import KNeighborsClassifier\n",
    "from sklearn.datasets import load_breast_cancer\n",
    "from sklearn.metrics import accuracy_score\n",
    "from sklearn.model_selection import train_test_split\n",
    "\n",
    "random_seed = 4238\n",
    "np.random.seed(random_seed)\n",
    "\n",
    "X, y = load_breast_cancer(return_X_y=True)\n",
    "X_train, x_test, y_train, y_test = train_test_split(X, y, test_size=0.3, shuffle=True, random_state=42)\n",
    "\n",
    "clf = KNeighborsClassifier(n_neighbors=8, p=1)\n",
    "clf.fit(X_train, y_train)\n",
    "\n",
    "predictions = clf.predict(x_test)\n",
    "acc = math.floor(accuracy_score(y_test, predictions) * 100) / 100\n",
    "\n",
    "print(acc)"
   ]
  },
  {
   "cell_type": "markdown",
   "id": "f793d12f",
   "metadata": {},
   "source": [
    "# Задача 2.2. Оптимальный K\n",
    "\n",
    "В этом задании Вам предлагается подобрать оптимальный K из диапазона [1,50] для решения задачи бинарной классификации на примере датасета breast_cancer. Этот датасет можно загрузить из модуля sklearn.datasets\n",
    "\n",
    "Качество оценивается при помощи метрики accuracy при помощи методики кросс-валидации. Об этой методике можно подробнее прочитать [в документации sklearn](https://scikit-learn.org/stable/modules/generated/sklearn.model_selection.cross_val_score.html)\n",
    "\n",
    "Мы предлагаем Вам заполнить недостающие команды в следующем скелете кода и получить оптимальное значение K. В ответе на задание необходимо указать это значение.\n",
    "\n",
    "## Примечания\n",
    "\n",
    "Замечание: обратите внимание, что np.argmax(cv_scores) возвращает ИНДЕКС наибольшего элемента массива. Индексация массивов начинается с нуля\n",
    "\n",
    "В данной задаче мы используем один из стандартных датасетов breast cancer. Доступ к этому датасету мы осуществляем при помощи вызова функции `load_breast_cancer`, аналогично тому, как мы это делали на лекции.\n",
    "\n",
    "Аргумент n_splits, в данной задаче равный 3, это количество разбиений датасета для проведения кроссвалидации. В качестве итоговой метрики возьмите **среднее** значение качества по всем разбиениям при проведении кроссвалидации."
   ]
  },
  {
   "cell_type": "code",
   "execution_count": 2,
   "id": "b26229d7",
   "metadata": {},
   "outputs": [
    {
     "name": "stdout",
     "output_type": "stream",
     "text": [
      "11\n"
     ]
    }
   ],
   "source": [
    "import sklearn\n",
    "import numpy as np\n",
    "from sklearn.metrics import accuracy_score\n",
    "from sklearn.model_selection import cross_val_score\n",
    "from sklearn.neighbors import KNeighborsClassifier\n",
    "random_seed = 4238\n",
    "\n",
    "np.random.seed(random_seed)\n",
    "n_splits = 3\n",
    "\n",
    "from sklearn.datasets import load_breast_cancer\n",
    "\n",
    "X, y = load_breast_cancer(return_X_y=True)\n",
    "\n",
    "cv_scores = [0]\n",
    "for k in range(1,51):\n",
    "    clf = KNeighborsClassifier(n_neighbors=k)\n",
    "    cv_scores.append(cross_val_score(clf, X, y, cv=n_splits, scoring='accuracy').mean())\n",
    "\n",
    "print(np.argmax(cv_scores))"
   ]
  },
  {
   "cell_type": "markdown",
   "id": "a069506c",
   "metadata": {},
   "source": [
    "# Задача 2.3. KNN\n",
    "\n",
    "В этом задании Вам предлагается написать класс `KNN_classifier`, пригодный для решения задачи классификации (многоклассовой).\n",
    "\n",
    "Мы предлагаем Вам шаблон класса. В этом шаблоне заполните тела функций `.fit` и `.predict`\n",
    "\n",
    "В качестве функции близости используйте Евклидово расстояние между объектами (подробнее https://numpy.org/doc/stable/reference/generated/numpy.linalg.norm.html).\n",
    "\n",
    "Напоминание:\n",
    "\n",
    "* Функция `.fit(x, y)` производит обучение модели. В рамках этой функции необходимо реализовать подбор оптимальных параметров модели/сконфигурировать модель для дальнейшего использования на основе данной тренировочной выборки, где x - это матрица признакового описания выборки, а y - вектор ответов.\n",
    "\n",
    "* Функция `.predict(x)` осуществляет предсказание для каждого из объектов, чьи векторные описания представлены строками матрицы x. Выполняется строго после `.fit()`. Ради безопасности можно даже реализовать механизм отказа в виде выбрасывания специальной ошибки `UnfittedError` в случае попытки вызова функции `.predict()` до вызова функции `.fit()`.\n",
    "\n",
    "Замечание: не изменяйте названия класса и его методов. Это приведёт к ошибке при исполнении Вашего кода в процессе проверки задания. Тем не менее, Вы можете дописать свои собственные методы, если это необходимо.\n",
    "\n",
    "## Примечания\n",
    "\n",
    "Вы можете проверить правильность выполнения задания посредством сравнения полученных результатов с функцией из соответствующего модуля `sklearn`.\n",
    "\n",
    "Замечание: в рамках выполнения данного задания запрещено использовать функции из пакета `sklearn` и любого другого, кроме `numpy`. Код, использующий любые другие модули не пройдёт тесты."
   ]
  },
  {
   "cell_type": "code",
   "execution_count": 3,
   "id": "bb8ef63f",
   "metadata": {},
   "outputs": [],
   "source": [
    "import numpy as np\n",
    "\n",
    "class KNN_classifier:\n",
    "    def __init__(self, n_neighbors: int, **kwargs):\n",
    "        self.K = n_neighbors\n",
    "\n",
    "    def fit(self, x: np.array, y: np.array):\n",
    "        self.x_train = x\n",
    "        self.y_train = y\n",
    "\n",
    "    def predict(self, x: np.array):\n",
    "        predictions = []\n",
    "        for X in x:\n",
    "            distances = np.linalg.norm(self.x_train - X, axis=1)\n",
    "            distances = np.concatenate([[distances], [self.y_train]]).T\n",
    "            distances = distances[distances[:, 0].argsort()][:self.K, 1]\n",
    "            distances, counts = np.unique(distances, return_counts=True)\n",
    "            predictions.append(distances[np.argmax(counts)])\n",
    "        predictions = np.array(predictions)\n",
    "        return predictions"
   ]
  },
  {
   "cell_type": "code",
   "execution_count": null,
   "id": "a1831e3b",
   "metadata": {},
   "outputs": [],
   "source": []
  }
 ],
 "metadata": {
  "kernelspec": {
   "display_name": "Python 3 (ipykernel)",
   "language": "python",
   "name": "python3"
  },
  "language_info": {
   "codemirror_mode": {
    "name": "ipython",
    "version": 3
   },
   "file_extension": ".py",
   "mimetype": "text/x-python",
   "name": "python",
   "nbconvert_exporter": "python",
   "pygments_lexer": "ipython3",
   "version": "3.10.8"
  }
 },
 "nbformat": 4,
 "nbformat_minor": 5
}
